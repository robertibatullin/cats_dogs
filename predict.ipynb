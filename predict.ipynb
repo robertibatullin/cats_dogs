{
 "cells": [
  {
   "cell_type": "code",
   "execution_count": 2,
   "metadata": {},
   "outputs": [],
   "source": [
    "import os,magic\n",
    "from dnn_api import ModelWrapper"
   ]
  },
  {
   "cell_type": "code",
   "execution_count": 20,
   "metadata": {},
   "outputs": [],
   "source": [
    "class Predictor():\n",
    "    def __init__(self,\n",
    "                 model_path,\n",
    "                 class_confidence_threshold = 0.9999):\n",
    "        self.model = ModelWrapper.load(model_path)\n",
    "        self.class_confidence_threshold = class_confidence_threshold\n",
    "    \n",
    "    def predict_file(self,filepath):\n",
    "        if not os.path.isfile(filepath):\n",
    "            return 'not valid'\n",
    "        file_mimetype = magic.Magic(mime=True).from_file(filepath)\n",
    "        if not file_mimetype in ('image/jpeg','image/png'):\n",
    "            return 'not valid'\n",
    "        \n",
    "        pred_probs = self.model.predict(filepath)\n",
    "        if all([p<self.class_confidence_threshold for p in pred_probs]):\n",
    "            return 'unknown'\n",
    "        elif pred_probs[0] > pred_probs[1]:\n",
    "            return 'cat'\n",
    "        else:\n",
    "            return 'dog'\n",
    "        \n",
    "    def predict_dir(self,dirpath):\n",
    "        filenames = os.listdir(dirpath)\n",
    "        return {filename: self.predict_file(os.path.join(dirpath,filename)) \\\n",
    "               for filename in filenames}            "
   ]
  },
  {
   "cell_type": "code",
   "execution_count": 9,
   "metadata": {},
   "outputs": [],
   "source": [
    "def prettyprint(dct):\n",
    "    max_key_len = max([len(str(key)) for key in dct.keys()])\n",
    "    for key in sorted(dct.keys()):\n",
    "        print(key,' '*(max_key_len-len(str(key)))+':',dct[key])"
   ]
  },
  {
   "cell_type": "code",
   "execution_count": 21,
   "metadata": {},
   "outputs": [],
   "source": [
    "p = Predictor('model/model.hd5')"
   ]
  },
  {
   "cell_type": "code",
   "execution_count": 22,
   "metadata": {},
   "outputs": [],
   "source": [
    "prediction = p.predict_dir('sample/')"
   ]
  },
  {
   "cell_type": "code",
   "execution_count": 15,
   "metadata": {
    "scrolled": true
   },
   "outputs": [
    {
     "name": "stdout",
     "output_type": "stream",
     "text": [
      "cat.11737.jpg  : cat\n",
      "cat.2266.jpg   : cat\n",
      "cat.2921.jpg   : cat\n",
      "cat.3570.jpg   : cat\n",
      "cat.394.jpg    : cat\n",
      "cat.4600.jpg   : cat\n",
      "cat.4865.jpg   : cat\n",
      "cat.9021.jpg   : cat\n",
      "dog.1402.jpg   : dog\n",
      "dog.1614.jpg   : dog\n",
      "dog.2423.jpg   : cat\n",
      "dog.6391.jpg   : dog\n",
      "dog.6768.jpg   : dog\n",
      "dog.8091.jpg   : dog\n",
      "dog.8643.jpg   : dog\n",
      "dog.9077.jpg   : dog\n",
      "notimage.1.txt : not valid\n",
      "notimage.2     : not valid\n",
      "random.1.jpg   : unknown\n",
      "random.2.jpg   : dog\n",
      "random.3.jpg   : dog\n",
      "random.4.jpg   : cat\n",
      "random.5.jpg   : dog\n",
      "random.6.png   : dog\n"
     ]
    }
   ],
   "source": [
    "prettyprint(prediction)"
   ]
  }
 ],
 "metadata": {
  "kernelspec": {
   "display_name": "Python 3",
   "language": "python",
   "name": "python3"
  },
  "language_info": {
   "codemirror_mode": {
    "name": "ipython",
    "version": 3
   },
   "file_extension": ".py",
   "mimetype": "text/x-python",
   "name": "python",
   "nbconvert_exporter": "python",
   "pygments_lexer": "ipython3",
   "version": "3.8.5"
  }
 },
 "nbformat": 4,
 "nbformat_minor": 4
}
